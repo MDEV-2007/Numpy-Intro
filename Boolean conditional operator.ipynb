{
 "cells": [
  {
   "cell_type": "markdown",
   "metadata": {},
   "source": [
    "Boolean conditional operator"
   ]
  },
  {
   "cell_type": "code",
   "execution_count": 8,
   "metadata": {},
   "outputs": [],
   "source": [
    "import numpy as np"
   ]
  },
  {
   "cell_type": "code",
   "execution_count": 9,
   "metadata": {},
   "outputs": [],
   "source": [
    "data1 = np.array([1.2, 2.8, 3.8, 4.7])\n",
    "data2 = np.array([2.5, 7.8, 4.2, 8.9])"
   ]
  },
  {
   "cell_type": "code",
   "execution_count": 10,
   "metadata": {},
   "outputs": [
    {
     "data": {
      "text/plain": [
       "array([1.2, 2.8, 3.8, 4.7])"
      ]
     },
     "execution_count": 10,
     "metadata": {},
     "output_type": "execute_result"
    }
   ],
   "source": [
    "data1"
   ]
  },
  {
   "cell_type": "code",
   "execution_count": 11,
   "metadata": {},
   "outputs": [
    {
     "data": {
      "text/plain": [
       "array([2.5, 7.8, 4.2, 8.9])"
      ]
     },
     "execution_count": 11,
     "metadata": {},
     "output_type": "execute_result"
    }
   ],
   "source": [
    "data2"
   ]
  },
  {
   "cell_type": "code",
   "execution_count": 12,
   "metadata": {},
   "outputs": [],
   "source": [
    "condition = np.array([True, False, False,True])"
   ]
  },
  {
   "cell_type": "code",
   "execution_count": 13,
   "metadata": {},
   "outputs": [
    {
     "data": {
      "text/plain": [
       "array([1.2, 7.8, 4.2, 4.7])"
      ]
     },
     "execution_count": 13,
     "metadata": {},
     "output_type": "execute_result"
    }
   ],
   "source": [
    "result = np.where(condition, data1, data2)\n",
    "result"
   ]
  },
  {
   "cell_type": "code",
   "execution_count": 14,
   "metadata": {},
   "outputs": [
    {
     "data": {
      "text/plain": [
       "array([[ 0.45483503,  0.54334154, -1.23788373, -0.81557132, -1.06057194,\n",
       "         1.45736656],\n",
       "       [ 0.5041113 ,  0.37695037, -0.43733632,  0.35475705,  0.00871929,\n",
       "        -0.82960778],\n",
       "       [-0.4151175 , -1.17670133,  2.10344836, -0.97980881,  0.82792019,\n",
       "         0.87042653],\n",
       "       [-0.5992459 ,  0.15206512, -0.00563015,  0.6878866 , -0.44103081,\n",
       "         0.35550185],\n",
       "       [-0.52330399,  0.60794863, -0.97147904, -1.00227399, -0.80067301,\n",
       "         0.21712302],\n",
       "       [ 0.74976899, -0.40208238, -1.91382639, -0.21885254,  2.13943651,\n",
       "        -0.18396996]])"
      ]
     },
     "execution_count": 14,
     "metadata": {},
     "output_type": "execute_result"
    }
   ],
   "source": [
    "data3 = np.random.randn(6,6)\n",
    "data3"
   ]
  },
  {
   "cell_type": "code",
   "execution_count": 15,
   "metadata": {},
   "outputs": [
    {
     "data": {
      "text/plain": [
       "array([[ 2,  2, -2, -2, -2,  2],\n",
       "       [ 2,  2, -2,  2,  2, -2],\n",
       "       [-2, -2,  2, -2,  2,  2],\n",
       "       [-2,  2, -2,  2, -2,  2],\n",
       "       [-2,  2, -2, -2, -2,  2],\n",
       "       [ 2, -2, -2, -2,  2, -2]])"
      ]
     },
     "execution_count": 15,
     "metadata": {},
     "output_type": "execute_result"
    }
   ],
   "source": [
    "results = np.where(data3 < 0, -2, 2)\n",
    "results"
   ]
  },
  {
   "cell_type": "code",
   "execution_count": null,
   "metadata": {},
   "outputs": [],
   "source": []
  }
 ],
 "metadata": {
  "kernelspec": {
   "display_name": "Python 3",
   "language": "python",
   "name": "python3"
  },
  "language_info": {
   "codemirror_mode": {
    "name": "ipython",
    "version": 3
   },
   "file_extension": ".py",
   "mimetype": "text/x-python",
   "name": "python",
   "nbconvert_exporter": "python",
   "pygments_lexer": "ipython3",
   "version": "3.12.2"
  }
 },
 "nbformat": 4,
 "nbformat_minor": 2
}
