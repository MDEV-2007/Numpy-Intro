{
 "cells": [
  {
   "cell_type": "markdown",
   "metadata": {},
   "source": [
    "Universal functions\n"
   ]
  },
  {
   "cell_type": "code",
   "execution_count": 1,
   "metadata": {},
   "outputs": [],
   "source": [
    "import numpy as np"
   ]
  },
  {
   "cell_type": "code",
   "execution_count": 2,
   "metadata": {},
   "outputs": [
    {
     "data": {
      "text/plain": [
       "array([ 0,  1,  2,  3,  4,  5,  6,  7,  8,  9, 10, 11, 12, 13, 14, 15, 16,\n",
       "       17, 18, 19])"
      ]
     },
     "execution_count": 2,
     "metadata": {},
     "output_type": "execute_result"
    }
   ],
   "source": [
    "data = np.arange(20)\n",
    "data"
   ]
  },
  {
   "cell_type": "code",
   "execution_count": 3,
   "metadata": {},
   "outputs": [
    {
     "data": {
      "text/plain": [
       "array([0.        , 1.        , 1.41421356, 1.73205081, 2.        ,\n",
       "       2.23606798, 2.44948974, 2.64575131, 2.82842712, 3.        ,\n",
       "       3.16227766, 3.31662479, 3.46410162, 3.60555128, 3.74165739,\n",
       "       3.87298335, 4.        , 4.12310563, 4.24264069, 4.35889894])"
      ]
     },
     "execution_count": 3,
     "metadata": {},
     "output_type": "execute_result"
    }
   ],
   "source": [
    "np.sqrt(data)  # returns the square root"
   ]
  },
  {
   "cell_type": "code",
   "execution_count": 4,
   "metadata": {},
   "outputs": [
    {
     "data": {
      "text/plain": [
       "array([  0,   1,   4,   9,  16,  25,  36,  49,  64,  81, 100, 121, 144,\n",
       "       169, 196, 225, 256, 289, 324, 361])"
      ]
     },
     "execution_count": 4,
     "metadata": {},
     "output_type": "execute_result"
    }
   ],
   "source": [
    "np.square(data)  # returns a square"
   ]
  },
  {
   "cell_type": "code",
   "execution_count": 5,
   "metadata": {},
   "outputs": [
    {
     "data": {
      "text/plain": [
       "array([1.00000000e+00, 2.71828183e+00, 7.38905610e+00, 2.00855369e+01,\n",
       "       5.45981500e+01, 1.48413159e+02, 4.03428793e+02, 1.09663316e+03,\n",
       "       2.98095799e+03, 8.10308393e+03, 2.20264658e+04, 5.98741417e+04,\n",
       "       1.62754791e+05, 4.42413392e+05, 1.20260428e+06, 3.26901737e+06,\n",
       "       8.88611052e+06, 2.41549528e+07, 6.56599691e+07, 1.78482301e+08])"
      ]
     },
     "execution_count": 5,
     "metadata": {},
     "output_type": "execute_result"
    }
   ],
   "source": [
    "np.exp(data)  # returns expo"
   ]
  },
  {
   "cell_type": "code",
   "execution_count": 7,
   "metadata": {},
   "outputs": [
    {
     "data": {
      "text/plain": [
       "array([0.        , 0.69314718, 1.09861229, 1.38629436, 1.60943791,\n",
       "       1.79175947, 1.94591015, 2.07944154, 2.19722458, 2.30258509,\n",
       "       2.39789527, 2.48490665, 2.56494936, 2.63905733, 2.7080502 ,\n",
       "       2.77258872, 2.83321334, 2.89037176, 2.94443898])"
      ]
     },
     "execution_count": 7,
     "metadata": {},
     "output_type": "execute_result"
    }
   ],
   "source": [
    "np.log(data[1:])  # returns natural logarithm"
   ]
  },
  {
   "cell_type": "code",
   "execution_count": 8,
   "metadata": {},
   "outputs": [
    {
     "data": {
      "text/plain": [
       "array([ 0.2795369 , -0.897417  ,  0.40303198,  0.28727808,  0.00758433,\n",
       "        1.53007512, -0.74047015,  0.54191798, -0.52151189,  0.49940039])"
      ]
     },
     "execution_count": 8,
     "metadata": {},
     "output_type": "execute_result"
    }
   ],
   "source": [
    "data1 = np.random.randn(10)\n",
    "data1"
   ]
  },
  {
   "cell_type": "code",
   "execution_count": 9,
   "metadata": {},
   "outputs": [],
   "source": [
    "whole, rest = np.modf(data1)"
   ]
  },
  {
   "cell_type": "code",
   "execution_count": 11,
   "metadata": {},
   "outputs": [
    {
     "name": "stdout",
     "output_type": "stream",
     "text": [
      "Whote value [ 0.2795369  -0.897417    0.40303198  0.28727808  0.00758433  0.53007512\n",
      " -0.74047015  0.54191798 -0.52151189  0.49940039]\n",
      "Rest Value [ 0. -0.  0.  0.  0.  1. -0.  0. -0.  0.]\n"
     ]
    }
   ],
   "source": [
    "print(\"Whote value\", whole)\n",
    "print(\"Rest Value\", rest)"
   ]
  },
  {
   "cell_type": "code",
   "execution_count": 12,
   "metadata": {},
   "outputs": [
    {
     "data": {
      "text/plain": [
       "array([ 1., -1.,  1.,  1.,  1.,  1., -1.,  1., -1.,  1.])"
      ]
     },
     "execution_count": 12,
     "metadata": {},
     "output_type": "execute_result"
    }
   ],
   "source": [
    "np.sign(data1)"
   ]
  },
  {
   "cell_type": "code",
   "execution_count": 13,
   "metadata": {},
   "outputs": [
    {
     "data": {
      "text/plain": [
       "array([False, False, False, False, False, False, False, False, False,\n",
       "       False])"
      ]
     },
     "execution_count": 13,
     "metadata": {},
     "output_type": "execute_result"
    }
   ],
   "source": [
    "np.isnan(data1)"
   ]
  },
  {
   "cell_type": "code",
   "execution_count": 19,
   "metadata": {},
   "outputs": [
    {
     "data": {
      "text/plain": [
       "array([ True,  True,  True, False, False, False, False, False, False,\n",
       "       False])"
      ]
     },
     "execution_count": 19,
     "metadata": {},
     "output_type": "execute_result"
    }
   ],
   "source": [
    "data1[0:3] = np.NaN\n",
    "np.isnan(data1)"
   ]
  },
  {
   "cell_type": "code",
   "execution_count": 20,
   "metadata": {},
   "outputs": [],
   "source": [
    "data2 = np.random.randn(25)\n",
    "data3 = np.random.randn(25)"
   ]
  },
  {
   "cell_type": "code",
   "execution_count": 21,
   "metadata": {},
   "outputs": [
    {
     "data": {
      "text/plain": [
       "array([ 0.9102279 ,  0.55220061, -1.7134605 ,  0.92824669, -0.4028418 ,\n",
       "        0.46712098, -1.23389187,  0.22606717,  1.11260177, -0.95080235,\n",
       "       -0.83449396,  0.47582661,  0.5895216 ,  0.26840241,  0.88702279,\n",
       "       -0.00563609, -1.2990705 , -0.2527497 ,  1.03412568,  2.15389147,\n",
       "       -0.04100584,  1.85472256,  0.2812146 , -0.35844283, -0.03932195])"
      ]
     },
     "execution_count": 21,
     "metadata": {},
     "output_type": "execute_result"
    }
   ],
   "source": [
    "data2"
   ]
  },
  {
   "cell_type": "code",
   "execution_count": 22,
   "metadata": {},
   "outputs": [
    {
     "data": {
      "text/plain": [
       "array([-0.66655342,  0.86348327, -1.17720556,  1.32845703,  1.08273888,\n",
       "       -1.66663393, -0.10106194, -1.06906041,  0.98703202, -0.65199475,\n",
       "        0.58796173, -0.66700939, -0.5010197 ,  0.00425111,  0.25085055,\n",
       "       -0.92708035, -0.01538359, -0.4836015 ,  0.50153134,  1.60223862,\n",
       "        1.02306909,  1.64983783,  0.23003431,  0.64922367,  0.0385015 ])"
      ]
     },
     "execution_count": 22,
     "metadata": {},
     "output_type": "execute_result"
    }
   ],
   "source": [
    "data3"
   ]
  },
  {
   "cell_type": "code",
   "execution_count": 23,
   "metadata": {},
   "outputs": [
    {
     "data": {
      "text/plain": [
       "array([ 2.43674474e-01,  1.41568388e+00, -2.89066606e+00,  2.25670373e+00,\n",
       "        6.79897077e-01, -1.19951295e+00, -1.33495381e+00, -8.42993247e-01,\n",
       "        2.09963380e+00, -1.60279710e+00, -2.46532232e-01, -1.91182779e-01,\n",
       "        8.85018928e-02,  2.72653521e-01,  1.13787334e+00, -9.32716440e-01,\n",
       "       -1.31445409e+00, -7.36351194e-01,  1.53565702e+00,  3.75613010e+00,\n",
       "        9.82063248e-01,  3.50456039e+00,  5.11248904e-01,  2.90780838e-01,\n",
       "       -8.20448829e-04])"
      ]
     },
     "execution_count": 23,
     "metadata": {},
     "output_type": "execute_result"
    }
   ],
   "source": [
    "np.add(data3, data2)"
   ]
  },
  {
   "cell_type": "code",
   "execution_count": 24,
   "metadata": {},
   "outputs": [
    {
     "data": {
      "text/plain": [
       "array([-6.06715523e-01,  4.76815987e-01,  2.01709522e+00,  1.23313585e+00,\n",
       "       -4.36172484e-01, -7.78519679e-01,  1.24699508e-01, -2.41679458e-01,\n",
       "        1.09817358e+00,  6.19918138e-01, -4.90650515e-01, -3.17380813e-01,\n",
       "       -2.95361934e-01,  1.14100795e-03,  2.22510157e-01,  5.22510440e-03,\n",
       "        1.99843721e-02,  1.22230132e-01,  5.18646436e-01,  3.45104811e+00,\n",
       "       -4.19518125e-02,  3.05999145e+00,  6.46890050e-02, -2.32709574e-01,\n",
       "       -1.51395377e-03])"
      ]
     },
     "execution_count": 24,
     "metadata": {},
     "output_type": "execute_result"
    }
   ],
   "source": [
    "np.multiply(data3, data2)"
   ]
  },
  {
   "cell_type": "code",
   "execution_count": 25,
   "metadata": {},
   "outputs": [
    {
     "data": {
      "text/plain": [
       "array([ 0.9102279 ,  0.86348327, -1.17720556,  1.32845703,  1.08273888,\n",
       "        0.46712098, -0.10106194,  0.22606717,  1.11260177, -0.65199475,\n",
       "        0.58796173,  0.47582661,  0.5895216 ,  0.26840241,  0.88702279,\n",
       "       -0.00563609, -0.01538359, -0.2527497 ,  1.03412568,  2.15389147,\n",
       "        1.02306909,  1.85472256,  0.2812146 ,  0.64922367,  0.0385015 ])"
      ]
     },
     "execution_count": 25,
     "metadata": {},
     "output_type": "execute_result"
    }
   ],
   "source": [
    "np.maximum(data3, data2)"
   ]
  },
  {
   "cell_type": "code",
   "execution_count": null,
   "metadata": {},
   "outputs": [],
   "source": []
  }
 ],
 "metadata": {
  "kernelspec": {
   "display_name": "Python 3",
   "language": "python",
   "name": "python3"
  },
  "language_info": {
   "codemirror_mode": {
    "name": "ipython",
    "version": 3
   },
   "file_extension": ".py",
   "mimetype": "text/x-python",
   "name": "python",
   "nbconvert_exporter": "python",
   "pygments_lexer": "ipython3",
   "version": "3.12.2"
  }
 },
 "nbformat": 4,
 "nbformat_minor": 2
}
